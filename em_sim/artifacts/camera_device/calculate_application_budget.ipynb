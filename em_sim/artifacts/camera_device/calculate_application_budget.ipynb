{
 "cells": [
  {
   "cell_type": "markdown",
   "metadata": {},
   "source": [
    "Task Power = 33000 uW | 33000uW/1e6 -> 0.033 W\n",
    "Task Current in Amp -> 0.01 = 33000 /3.3 * 1e-6\n",
    "\n",
    "Energy of 1 task in Joules -> 0.99 Joules = 0.033 W x 30 sec\n",
    "Energy of 6 tasks in Joules -> 5.94 Joules = 0.033 W x 180 secoonds (1 task = 30 sec)\n",
    "\n",
    "\n",
    "Sleep Power = 158uW | 158uW/1e-6 -> 0.000158 W\n",
    "Energy of sleeping in Joules (1 hour minus 6 tasks) 0.54036 Joules = 0.000158W x 3420 sec\n",
    "\n",
    "\n",
    "Total Energy required in 1 hour = 6.48036 Joules\n",
    "Avergae budget in Amperes required for 1 hour = 0.00054548484 -> 6.48036 / (3600 sec x 3.3)\n",
    "Average budget im mA required for 1 hour =0.54548484 milliamps (mA)\n",
    "Average Power 0.00180009997 Watts\n",
    "\n",
    "\n",
    "Budget in mA -> 0.6 mA\n",
    "Budget in Amperes -> 0.0006"
   ]
  },
  {
   "cell_type": "code",
   "execution_count": 53,
   "metadata": {},
   "outputs": [
    {
     "name": "stdout",
     "output_type": "stream",
     "text": [
      "Task power in mW: 37.0\n",
      "Task current for one task in Ampere: 0.011212121212121211\n",
      "Task current for one task in miliAmpere: 11.212121212121211\n",
      "Task energy in Joules: 1.1099999999999999\n",
      "Sleep energy in Joules per hour: 0.54036\n",
      "Sleep current hour: 0.04787878787878788\n",
      "Total Energy for 1 hour in Joules : 7.200359999999999\n",
      "Average budget in Ampere required for 1 hour : 0.000606090909090909\n",
      "Average budget in mA required for 1 hour : 0.606090909090909\n"
     ]
    }
   ],
   "source": [
    "# Set Task Power and Task Duration\n",
    "task_power_uW = 37000  # 33000 uW # 33mW\n",
    "task_power_mW = task_power_uW/1000\n",
    "print(\"Task power in mW:\", task_power_mW)\n",
    "task_power_W = task_power_uW/1e6 \n",
    "task_duration_s = 30\n",
    "\n",
    "# Calculate Energy and Current of a task, Voltage of MCU is 3.3V provided by boost converter\n",
    "task_current_amp = task_power_W/ 3.3\n",
    "print(\"Task current for one task in Ampere:\", task_current_amp)\n",
    "print(\"Task current for one task in miliAmpere:\", task_current_amp*1000)\n",
    "task_energy_joules = task_power_W * task_duration_s\n",
    "print(\"Task energy in Joules:\", task_energy_joules)\n",
    "\n",
    "# Calculate energy for 6 tasks. We schedule 6 tasks per hour\n",
    "six_tasks_energy_joules = task_energy_joules * 6\n",
    "six_tasks_energy_joules \n",
    "\n",
    "# Sleeping task\n",
    "sleep_power_uW = 158\n",
    "sleep_power_W = sleep_power_uW/ 1e6\n",
    "sleep_duration_s = 3600 - (task_duration_s*6)\n",
    "sleep_energy_joules_1hr = sleep_power_W * sleep_duration_s\n",
    "print(\"Sleep energy in Joules per hour:\", sleep_energy_joules_1hr)\n",
    "sleep_current_mA = sleep_power_uW/3.3 * 1e-3\n",
    "print(\"Sleep current hour:\", sleep_current_mA)\n",
    "\n",
    "# Total Energy required per hour\n",
    "total_energy_1hr = six_tasks_energy_joules + sleep_energy_joules_1hr\n",
    "print(\"Total Energy for 1 hour in Joules :\", total_energy_1hr)\n",
    "\n",
    "avg_budget_amp_1hr = total_energy_1hr / (3600 * 3.3)\n",
    "print(\"Average budget in Ampere required for 1 hour :\", avg_budget_amp_1hr)\n",
    "avg_budget_mA_1hr = avg_budget_amp_1hr * 1000 \n",
    "print(\"Average budget in mA required for 1 hour :\", avg_budget_mA_1hr)\n"
   ]
  },
  {
   "cell_type": "markdown",
   "metadata": {},
   "source": [
    "Now for Scheduler Side"
   ]
  },
  {
   "cell_type": "code",
   "execution_count": 41,
   "metadata": {},
   "outputs": [
    {
     "name": "stdout",
     "output_type": "stream",
     "text": [
      "Energy in Joules for 1 hour : 7.200359999999998\n",
      "Energy in Joules for 6 tasks : 6.659999999999998\n",
      "New single task energy: 1.1099999999999997\n"
     ]
    },
    {
     "data": {
      "text/plain": [
       "1.1099999999999997"
      ]
     },
     "execution_count": 41,
     "metadata": {},
     "output_type": "execute_result"
    }
   ],
   "source": [
    "energy_for_1hr_in_joules = avg_budget_amp_1hr * 3600 * 3.3\n",
    "print(\"Energy in Joules for 1 hour :\", energy_for_1hr_in_joules)\n",
    "energy_for_six_tasks_joules = energy_for_1hr_in_joules - sleep_energy_joules_1hr\n",
    "print(\"Energy in Joules for 6 tasks :\", energy_for_six_tasks_joules)\n",
    "max_repetitions = float(energy_for_six_tasks_joules/task_energy_joules)\n",
    "scheduled_repetitions = 6\n",
    "new_single_task_energy = (max_repetitions * task_energy_joules) / scheduled_repetitions\n",
    "print(\"New single task energy:\", new_single_task_energy)\n",
    "energy_for_six_tasks_joules/6"
   ]
  },
  {
   "cell_type": "code",
   "execution_count": 52,
   "metadata": {},
   "outputs": [
    {
     "name": "stdout",
     "output_type": "stream",
     "text": [
      "In,max = 0.0006 12.550746785383243\n"
     ]
    },
    {
     "data": {
      "text/plain": [
       "11.550746785383243"
      ]
     },
     "execution_count": 52,
     "metadata": {},
     "output_type": "execute_result"
    }
   ],
   "source": [
    "# Binary Search Iterations\n",
    "\n",
    "float(\"1e-7\") \n",
    "1e-7\n",
    "import math\n",
    "\n",
    "BinarySearchIterationSteps = math.log2(0.0006/float(\"1e-7\") )\n",
    "print(\"In,max = 0.0006\", BinarySearchIterationSteps)\n",
    "BinarySearchIterationSteps = math.log2(0.0003/float(\"1e-7\") )\n",
    "BinarySearchIterationSteps\n"
   ]
  },
  {
   "cell_type": "code",
   "execution_count": 56,
   "metadata": {},
   "outputs": [
    {
     "name": "stdout",
     "output_type": "stream",
     "text": [
      "energy_hr_mJ: 617.7599999999999 and sleep_hr_mJ 540.36\n"
     ]
    }
   ],
   "source": [
    "sleep_current_mA = 0.04787878787878788\n",
    "budget_current_mA = 0.052\n",
    "\n",
    "energy_hr_mJ = budget_current_mA * 3.3 * 3600\n",
    "sleep_hr_mJ = sleep_current_mA * 3.3 * 3420\n",
    "print(f\"energy_hr_mJ: {energy_hr_mJ} and sleep_hr_mJ {sleep_hr_mJ}\")\n"
   ]
  },
  {
   "cell_type": "markdown",
   "metadata": {},
   "source": [
    "Extra Notes from tasks file\n",
    "\n",
    "Task Power = 33000 uW | 33000uW/1e-6 -> 0.033 W\n",
    "Task Current in Amp -> 0.01 = 33000 /3.3 * 1e-6\n",
    "\n",
    "Energy of 1 task in Joules -> 0.99 Joules = 0.033 W x 30 sec\n",
    "Energy of 6 tasks in Joules -> 5.94 Joules = 0.033 W x 180 secoonds (1 task = 30 sec)\n",
    "\n",
    "\n",
    "Sleep Power = 158uW | 158uW/1e-6 -> 0.000158 W\n",
    "Energy of sleeping in Joules (1 hour minus 6 tasks) 0.54036 Joules = 0.000158W x 3420 sec\n",
    "\n",
    "\n",
    "Total Energy required in 1 hour = 6.48036 Joules\n",
    "Avergae budget in Amperes required for 1 hour = 0.00054548484 -> 6.48036 / (3600 sec x 3.3)\n",
    "Average budget im mA required for 1 hour =0.54548484 milliamps (mA)\n",
    "Average Power 0.00180009997 Watts\n",
    "\n",
    "\n",
    "Budget in mA -> 0.6 mA\n",
    "Budget in Amperes -> 0.0006\n",
    "\n",
    "\n",
    "\n",
    "Predictions in mA\n",
    "\n",
    "Avg current in mA per slot = 8.0933\n",
    "Avg current in Amp = 0.0080933\n",
    "\n",
    "Avg energy per slot in Joules -> 96.148404 Joules = 0.0080933 Amp x 3.3 V (add current cap voltage) 3600 sec\n",
    "\n",
    "\n",
    "\n",
    "Capacitor 5F\n",
    "\n",
    "Energy in joules ->  = 1/2 * 5 * (Vmax2 - Vmin2)\n",
    "1/2 * 5 * (2.675^2 - 1.3^2) \n",
    "0.5 * 5 * (5.35 - 2.6)\n",
    "0.5 * 5 * 2.75\n",
    "6.875 Joules\n",
    "\n",
    "Check this with simulator values, I have checked this and we need to use the actual formula. no shortcuts\n",
    "Capacitor 100F\n",
    "0.5 * 100 * (2.675^2 - 1.3^2) = 273.28 Joules\n",
    "\n",
    "Capacitor 200F # This one wrong\n",
    "0.5 * 200 * 2.75\n",
    "275 Joules \n",
    "275 Joules / 24 slots = 11.4583 Joules\n",
    "\n",
    "Capacitor required for full day: #this calculation seems to be wrong\n",
    "6.48036 (energy consumption per hour) * 24 (hrs) Joules = 0.5 * C * 2.75\n",
    "C = 155.52864/ (0.5 * 2.75)\n",
    "C = 155.52864 / 1.375\n",
    "C = 113 F capacitor\n",
    "\n",
    "According to new calculation ine need around 60F capacitor for full day\n",
    "\n",
    "\n",
    "Scheduler\n",
    "\n",
    " #Energy = Power x Time\n",
    "task_energy = (self.task_power - self.sleep_power) *  self.task_duration # nano Joule\n",
    "0.98526 Joules = 33000uW - 158uW * 30000\n",
    "budget_energy = (1000 * budget * self.dc_dc_voltage - self.sleep_power) * horizon #nano Joule\n",
    "(budget in mA = 0.6) 6559200000 nJ = 6.5592 Joules (6.6 repetitions)\n",
    "(budget in mA = 0.3) 2995200000 nJ = 2.9952 Joules (3.04 repetitions) \n",
    "\n",
    "if (task_energy != 0.0):\n",
    "    repetitions = int(budget_energy/task_energy)\n",
    "\n",
    "\n",
    "new_single_task_energy = (repetitions * single_task_energy) / scheduled_repetitions\n",
    "0.49263 = (3 rep * 0.98526 Joules)/ 6 scheduled tasks\n"
   ]
  }
 ],
 "metadata": {
  "kernelspec": {
   "display_name": "frank-sim",
   "language": "python",
   "name": "python3"
  },
  "language_info": {
   "codemirror_mode": {
    "name": "ipython",
    "version": 3
   },
   "file_extension": ".py",
   "mimetype": "text/x-python",
   "name": "python",
   "nbconvert_exporter": "python",
   "pygments_lexer": "ipython3",
   "version": "3.9.16"
  }
 },
 "nbformat": 4,
 "nbformat_minor": 2
}
